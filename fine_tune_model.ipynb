{
 "cells": [
  {
   "cell_type": "code",
   "execution_count": null,
   "metadata": {},
   "outputs": [],
   "source": [
    "\n",
    "\n",
    "\n",
    "\n"
   ]
  },
  {
   "cell_type": "markdown",
   "metadata": {},
   "source": [
    "# Automated Construction of Topic-Specific Fine-Tuning Language Model (LLM)"
   ]
  },
  {
   "cell_type": "code",
   "execution_count": null,
   "metadata": {},
   "outputs": [],
   "source": []
  },
  {
   "cell_type": "markdown",
   "metadata": {},
   "source": [
    "Before using the OpenAI library, you need to set up and input your OpenAI API token. This token allows access to OpenAI's services"
   ]
  },
  {
   "cell_type": "code",
   "execution_count": 1,
   "metadata": {},
   "outputs": [],
   "source": [
    "import os\n",
    "import openai\n",
    "from dotenv import load_dotenv, find_dotenv\n",
    "\n",
    "# Load environment variables from .env file\n",
    "_ = load_dotenv(find_dotenv()) # read local .env file\n",
    "\n",
    "# Set OpenAI API key from environment variable\n",
    "openai.api_key  = os.environ['OPENAI_API_KEY']"
   ]
  },
  {
   "cell_type": "markdown",
   "metadata": {},
   "source": [
    "# Dataset generation"
   ]
  },
  {
   "cell_type": "markdown",
   "metadata": {},
   "source": [
    "In this step, we automatically generate the dataset to fine-tune the model. We initialize the following parameters:\n",
    "\n",
    "1. Temperature: We opt for a lower value to ensure more precise question answers from the documentation.\n",
    "2. Number of examples: We leave this parameter empty as the number of examples generated depends on the given content.\n",
    "3. Reference document: For our selected use case, we provide a reference document to the model for generating data samples. If you don't need to provide reference data for your use case, which means the model itself needs to generate examples, you can leave the reference document field empty. In our case, we automatically scrape the content from the corresponding web documentation and input the extracted content into the model to generate data samples. You can find the web-scraped data [here](link_here).\n",
    "\n",
    "\n"
   ]
  },
  {
   "cell_type": "code",
   "execution_count": 18,
   "metadata": {},
   "outputs": [],
   "source": [
    "User_prompt=\"Develop a fine-tuned LLM capable of responding to queries sourced from Tracified documentation\"\n",
    "temperature = .4\n",
    "number_of_examples = 50\n"
   ]
  },
  {
   "cell_type": "markdown",
   "metadata": {},
   "source": [
    "load the reference data:\n",
    "\n",
    "For our selected use case, we provide a reference document to the model for generating data samples.\n",
    "\n",
    " If you don't need to provide reference data for your use case, which means the model itself needs to generate examples, you can leave the reference_doc variable empty.\n",
    " \n",
    "  In our case, we automatically scrape the content from the corresponding web documentation and input the extracted content into the model to generate data samples. You can find the web-scraped data [here](link_here)."
   ]
  },
  {
   "cell_type": "code",
   "execution_count": 20,
   "metadata": {},
   "outputs": [
    {
     "name": "stdout",
     "output_type": "stream",
     "text": [
      "Introduction to Tracified\n",
      "What is Tracified#\n",
      "\n",
      "Tracified powered by Blockchain technology facilitates a tamper proof platform that streamlines the data flow within a supply chain, introducing a novel crypto-economic model based on a reward/penalty concept, ensuring fair distribution of gains across the chain. The originality of the solution is further enhanced by its ability to get customized to suit the needs of a business.\n",
      "\n",
      "A blockchain based platform that adds the crucial element ‘trust’ to traceability information. This applies to any buyer – seller scenario that occurs in a supply chain (not only the end-consumer). Trust is achieved by 3 pillars in tracified.1) blockchain based direct proofs 2) web of trust 3) security deposits by improving trust, tracified enables smarter purchasing decisions from the buyers side while making it possible for sellers who sell genuinely high quality products to prove their value.\n",
      "\n",
      "WHAT IS INCLUDED IN THE TRACIFIED PRODUCT LINE?\n",
      "\n",
      "Tracified Web Portals - Tracified Admin Portal, Tracified Configs Portal, Tracified Insights Portal\n",
      "\n",
      "Tracified Mobile Applications - Tracified Field Officer Application, Tracified Consumer Application, Tracified Wallet Application\n",
      "\n",
      "Terms used within Tracified#\n",
      "Workflow#\n",
      "\n",
      "The series of stages included in a given supply chain\n",
      "\n",
      "Stage#\n",
      "\n",
      "Specific point or a period identified in a supply chain\n",
      "\n",
      "Artifacts / Master data#\n",
      "\n",
      "Static data which will be fed into the system. These data will not change throughout the entire supply chain.\n",
      "\n",
      "Stage Data / Tracking Data#\n",
      "\n",
      "Live data which will be collected for each stage of the supply chain with use of iOT devices or through manual inputs. These data will be collected through one of our mobile applications; the Tracified Field Officer Application\n",
      "\n",
      "TDP - Traceability Data Packets#\n",
      "\n",
      "The traceability information which you can see in Tracified Insights Portal with related to one stage can be identified as a Traceability Product Line\n",
      "\n",
      "Change of Custody (CoC)#\n",
      "\n",
      "Moving a item from one organization to another organization within the a particular supply chain\n",
      "\n",
      "Consignor - the party who creates the CoC request\n",
      "\n",
      "Consignee - the party who receives the CoC request made\n",
      "\n",
      "Batch ID#\n",
      "\n",
      "A unique identifier given to identify each batch of the supply chain\n",
      "\n",
      "Ex: Agri domain - Tomatoes001, Apples_123 | Apparel domain - CB001, WD123\n",
      "\n",
      "Traceability Data#\n",
      "\n",
      "The process of mapping and showing the entire journey of the product manufactured from raw materials to finished goods.\n",
      "\n",
      "Consumer-map#\n",
      "\n",
      "The map shown to the end consumer, which contains all the specific locations through which the product went through during different stages of the supply chain.\n",
      "\n",
      "Geo-locations#\n",
      "\n",
      "The locations identified through GPS or IP addresses, to track the product journey\n",
      "\n",
      "Geotagged photos#\n",
      "\n",
      "A photo which is associated with a specific location and is linked with a geotag. These images can be uploaded from the Tracified Field Office\n"
     ]
    }
   ],
   "source": [
    "import pandas as pd\n",
    "def readCsvFile(fileName):\n",
    "    return pd.read_csv(fileName)\n",
    "\n",
    "data = readCsvFile('tracified_website_data.csv')\n",
    "reference_doc=data[\"Document Content\"][0]\n",
    "print(data[\"Document Content\"][0])"
   ]
  },
  {
   "cell_type": "code",
   "execution_count": null,
   "metadata": {},
   "outputs": [],
   "source": []
  },
  {
   "cell_type": "markdown",
   "metadata": {},
   "source": [
    "Next, we define the data generation chain, which comprises the following components:\n",
    "\n",
    "1. Prompt: We establish a clear prompt with input variables.\n",
    "2. Model: We utilize the latest 'gpt-4-1106-preview' model.\n",
    "3. Parser: We specify a parser to ensure that the output is structured and consistent at all times.\n",
    "\n",
    "The output of this chain will consist of the generated data samples as outlined in the parser."
   ]
  },
  {
   "cell_type": "code",
   "execution_count": 7,
   "metadata": {},
   "outputs": [],
   "source": [
    "prompt_template = \"\"\"\n",
    "    You are generating data to train a machine learning model. \\\n",
    "    You will receive a high-level description of the model we want to train. If reference data is provided, use only that. \\\n",
    "    If not, rely on your knowledge. \\\n",
    "    From this, generate data samples, each with a prompt/response pair. \\\n",
    "    Ensure your samples are unique, diverse, and of high quality to train a well-performing model. \\\n",
    "\n",
    "    If a specific number of samples is requested, generate that number; otherwise, generate as many as possible.  \t\t\n",
    "    \n",
    "    Model type: {prompt}\n",
    "    Number of samples: {examples}\n",
    "    Reference data: {reference}\n",
    "    \n",
    "    {format_instructions}\n",
    "    \"\"\"\n"
   ]
  },
  {
   "cell_type": "code",
   "execution_count": 8,
   "metadata": {},
   "outputs": [],
   "source": [
    "from typing import List\n",
    "from langchain_core.pydantic_v1 import BaseModel, Field\n",
    "\n",
    "\n",
    "class DataSample(BaseModel):\n",
    "    \"\"\"Data samples generated for fine-tuning a large language model.\"\"\"\n",
    "\n",
    "    prompt: str = Field(description=\"Text provided as the prompt.\")\n",
    "    response: str = Field(description=\"The corresponding response to the prompt.\")\n",
    "\n",
    "\n",
    "class ListDataSamples(BaseModel):\n",
    "    \"\"\"Information to extract.\"\"\"\n",
    "    datasamples: List[DataSample] = Field(description=\"List of generated data samples\")    "
   ]
  },
  {
   "cell_type": "code",
   "execution_count": null,
   "metadata": {},
   "outputs": [],
   "source": []
  },
  {
   "cell_type": "code",
   "execution_count": 9,
   "metadata": {},
   "outputs": [],
   "source": [
    "from langchain.output_parsers import PydanticOutputParser\n",
    "#  Set up a parser + inject instructions into the prompt template.\n",
    "parser = PydanticOutputParser(pydantic_object=ListDataSamples)"
   ]
  },
  {
   "cell_type": "code",
   "execution_count": 10,
   "metadata": {},
   "outputs": [],
   "source": [
    "from langchain_openai import ChatOpenAI\n",
    "# Define model and extraction functions\n",
    "model = ChatOpenAI(model_name='gpt-4-1106-preview', temperature=0.4)"
   ]
  },
  {
   "cell_type": "code",
   "execution_count": 15,
   "metadata": {},
   "outputs": [],
   "source": [
    "from langchain.prompts import PromptTemplate\n",
    "\n",
    "PROMPT = PromptTemplate(\n",
    "        template=prompt_template, \n",
    "        input_variables=[\"prompt\", \"reference\"],\n",
    "        partial_variables={\"examples\":\"\",\"format_instructions\": parser.get_format_instructions()},\n",
    "    )\n"
   ]
  },
  {
   "cell_type": "code",
   "execution_count": 12,
   "metadata": {},
   "outputs": [],
   "source": [
    "from langchain_core.runnables import RunnableParallel, RunnablePassthrough\n",
    "# Define data_generation chain\n",
    "data_generation_chain = ({\"prompt\": RunnablePassthrough(),\"reference\":RunnablePassthrough()} | PROMPT | model | parser)\n"
   ]
  },
  {
   "cell_type": "code",
   "execution_count": 16,
   "metadata": {},
   "outputs": [],
   "source": [
    "\n",
    "\n",
    "# Execute extraction chains\n",
    "response1 = data_generation_chain.invoke({\n",
    "    \"prompt\":User_prompt,\n",
    "    \"reference\": reference_doc\n",
    "})\n"
   ]
  },
  {
   "cell_type": "code",
   "execution_count": 17,
   "metadata": {},
   "outputs": [
    {
     "name": "stdout",
     "output_type": "stream",
     "text": [
      "datasamples=[DataSample(prompt='Can you explain how Tracified uses blockchain technology?', response='Tracified utilizes blockchain technology to create a tamper-proof platform that enhances the traceability and trust in supply chains. It does this by providing direct proofs on the blockchain, establishing a web of trust, and using security deposits to incentivize the fair distribution of gains and ensure the authenticity of products.'), DataSample(prompt='What are the main components of the Tracified product line?', response='The Tracified product line includes Tracified Web Portals such as the Admin Portal, Configs Portal, and Insights Portal, as well as Tracified Mobile Applications including the Field Officer Application, Consumer Application, and Wallet Application.'), DataSample(prompt=\"What is meant by 'Artifacts' or 'Master data' in the context of Tracified?\", response=\"Within Tracified, 'Artifacts' or 'Master data' refer to static data that are entered into the system and remain unchanged throughout the entire supply chain. This data serves as a foundational element for tracking and traceability.\"), DataSample(prompt='How does Tracified collect Stage Data or Tracking Data?', response='Stage Data or Tracking Data is collected live at each stage of the supply chain. This can be done through IoT devices or manual inputs, and the data is collected using the Tracified Field Officer Application.'), DataSample(prompt='What is a TDP in Tracified?', response='TDP stands for Traceability Data Packets. It is the traceability information related to a specific stage in the supply chain, which can be viewed in the Tracified Insights Portal.'), DataSample(prompt='What does Change of Custody (CoC) mean in Tracified?', response='Change of Custody (CoC) in Tracified refers to the transfer of an item from one organization to another within the supply chain. It involves a CoC request created by the consignor and received by the consignee.'), DataSample(prompt='How are batch IDs used in Tracified?', response=\"Batch IDs are unique identifiers assigned to each batch in the supply chain to facilitate tracking and traceability. They vary depending on the domain, for example, 'Tomatoes001' for agriculture or 'CB001' for apparel.\"), DataSample(prompt='What is the purpose of the consumer-map in Tracified?', response=\"The consumer-map in Tracified shows the end consumer all the specific locations that the product has passed through during different stages of the supply chain, enhancing the transparency and trust in the product's journey.\"), DataSample(prompt='What are geotagged photos in the context of Tracified?', response='Geotagged photos are images that are linked with a specific geographic location. In Tracified, these photos can be uploaded through the Field Officer Application to provide visual proof of the product at different stages in the supply chain.')]\n"
     ]
    }
   ],
   "source": [
    "print(response1)"
   ]
  },
  {
   "cell_type": "code",
   "execution_count": 57,
   "metadata": {},
   "outputs": [
    {
     "name": "stdout",
     "output_type": "stream",
     "text": [
      "Prompt: Can you explain how Tracified uses blockchain technology?\n",
      "Response: Tracified utilizes blockchain technology to create a tamper-proof platform that enhances the traceability and trust in supply chains. It does this by providing direct proofs on the blockchain, establishing a web of trust, and using security deposits to incentivize the fair distribution of gains and ensure the authenticity of products.\n",
      "\n",
      "Prompt: What are the main components of the Tracified product line?\n",
      "Response: The Tracified product line includes Tracified Web Portals such as the Admin Portal, Configs Portal, and Insights Portal, as well as Tracified Mobile Applications including the Field Officer Application, Consumer Application, and Wallet Application.\n",
      "\n",
      "Prompt: What is meant by 'Artifacts' or 'Master data' in the context of Tracified?\n",
      "Response: Within Tracified, 'Artifacts' or 'Master data' refer to static data that are entered into the system and remain unchanged throughout the entire supply chain. This data serves as a foundational element for tracking and traceability.\n",
      "\n",
      "Prompt: How does Tracified collect Stage Data or Tracking Data?\n",
      "Response: Stage Data or Tracking Data is collected live at each stage of the supply chain. This can be done through IoT devices or manual inputs, and the data is collected using the Tracified Field Officer Application.\n",
      "\n",
      "Prompt: What is a TDP in Tracified?\n",
      "Response: TDP stands for Traceability Data Packets. It is the traceability information related to a specific stage in the supply chain, which can be viewed in the Tracified Insights Portal.\n",
      "\n",
      "Prompt: What does Change of Custody (CoC) mean in Tracified?\n",
      "Response: Change of Custody (CoC) in Tracified refers to the transfer of an item from one organization to another within the supply chain. It involves a CoC request created by the consignor and received by the consignee.\n",
      "\n",
      "Prompt: How are batch IDs used in Tracified?\n",
      "Response: Batch IDs are unique identifiers assigned to each batch in the supply chain to facilitate tracking and traceability. They vary depending on the domain, for example, 'Tomatoes001' for agriculture or 'CB001' for apparel.\n",
      "\n",
      "Prompt: What is the purpose of the consumer-map in Tracified?\n",
      "Response: The consumer-map in Tracified shows the end consumer all the specific locations that the product has passed through during different stages of the supply chain, enhancing the transparency and trust in the product's journey.\n",
      "\n",
      "Prompt: What are geotagged photos in the context of Tracified?\n",
      "Response: Geotagged photos are images that are linked with a specific geographic location. In Tracified, these photos can be uploaded through the Field Officer Application to provide visual proof of the product at different stages in the supply chain.\n",
      "\n"
     ]
    }
   ],
   "source": [
    "#Generated data samples\n",
    "for s in response1.datasamples:\n",
    "    print(\"Prompt:\", s.prompt)\n",
    "    print(\"Response:\", s.response)\n",
    "    print()  # Adding an empty line for clarity"
   ]
  },
  {
   "cell_type": "markdown",
   "metadata": {},
   "source": [
    "# System Message Generation:\n",
    "\n",
    "In this stage, we provide a clear and precise prompt to generate system messages for use in inference. We then utilize the output parser to structure the output more consistently and systematically."
   ]
  },
  {
   "cell_type": "code",
   "execution_count": 23,
   "metadata": {},
   "outputs": [],
   "source": [
    "prompt_template2=\"\"\"You will be given a high-level description of the model we are training, \\\n",
    "    and from that, you will generate a simple system prompt for that model to use. Remember, you are not generating the system message for data generation -- you are generating the system message to use for inference. A good format to follow is `Given \n",
    "WHAT_THE_MODEL_SHOULD_DO.Make it as concise as possible. Include nothing but the system prompt in your response.\\\n",
    "Here is the high_level description of the model:{prompt}\n",
    "\n",
    "\\n{format_instructions2}\\n\n",
    "\"\"\""
   ]
  },
  {
   "cell_type": "code",
   "execution_count": 24,
   "metadata": {},
   "outputs": [],
   "source": [
    "class SystemMessage(BaseModel):\n",
    "    \"\"\"Generated system message.\"\"\"\n",
    "\n",
    "    system_message: str = Field(description=\"system message to use for inference.\")\n",
    "    \n",
    "parser2 = PydanticOutputParser(pydantic_object=SystemMessage)\n"
   ]
  },
  {
   "cell_type": "code",
   "execution_count": 25,
   "metadata": {},
   "outputs": [],
   "source": [
    "PROMPT2 = PromptTemplate(\n",
    "        template=prompt_template2, \n",
    "        input_variables=[\"prompt\"],\n",
    "        partial_variables={\"format_instructions2\": parser2.get_format_instructions()},\n",
    "    )"
   ]
  },
  {
   "cell_type": "code",
   "execution_count": 26,
   "metadata": {},
   "outputs": [],
   "source": [
    "extraction_chain2 = ({\"prompt\": RunnablePassthrough()} | PROMPT2 | model | parser2)\n"
   ]
  },
  {
   "cell_type": "code",
   "execution_count": 31,
   "metadata": {},
   "outputs": [],
   "source": [
    "\n",
    "# Execute system message generation chain\n",
    "response2 = extraction_chain2.invoke({\n",
    "    \"prompt\":\"Develop a fine-tuned LLM capable of responding to queries sourced from Tracified documentation\",\n",
    "    \n",
    "})\n"
   ]
  },
  {
   "cell_type": "code",
   "execution_count": 32,
   "metadata": {},
   "outputs": [
    {
     "name": "stdout",
     "output_type": "stream",
     "text": [
      "system_message='Given a query sourced from Tracified documentation, provide a detailed and accurate response.'\n"
     ]
    }
   ],
   "source": [
    "print(response2 )\n"
   ]
  },
  {
   "cell_type": "code",
   "execution_count": 35,
   "metadata": {},
   "outputs": [
    {
     "name": "stdout",
     "output_type": "stream",
     "text": [
      "Prompt: Can you explain how Tracified uses blockchain technology?\n",
      "Response: Tracified utilizes blockchain technology to create a tamper-proof platform that enhances the traceability and trust in supply chains. It does this by providing direct proofs on the blockchain, establishing a web of trust, and using security deposits to incentivize the fair distribution of gains and ensure the authenticity of products.\n",
      "\n",
      "Prompt: What are the main components of the Tracified product line?\n",
      "Response: The Tracified product line includes Tracified Web Portals such as the Admin Portal, Configs Portal, and Insights Portal, as well as Tracified Mobile Applications including the Field Officer Application, Consumer Application, and Wallet Application.\n",
      "\n",
      "Prompt: What is meant by 'Artifacts' or 'Master data' in the context of Tracified?\n",
      "Response: Within Tracified, 'Artifacts' or 'Master data' refer to static data that are entered into the system and remain unchanged throughout the entire supply chain. This data serves as a foundational element for tracking and traceability.\n",
      "\n",
      "Prompt: How does Tracified collect Stage Data or Tracking Data?\n",
      "Response: Stage Data or Tracking Data is collected live at each stage of the supply chain. This can be done through IoT devices or manual inputs, and the data is collected using the Tracified Field Officer Application.\n",
      "\n",
      "Prompt: What is a TDP in Tracified?\n",
      "Response: TDP stands for Traceability Data Packets. It is the traceability information related to a specific stage in the supply chain, which can be viewed in the Tracified Insights Portal.\n",
      "\n",
      "Prompt: What does Change of Custody (CoC) mean in Tracified?\n",
      "Response: Change of Custody (CoC) in Tracified refers to the transfer of an item from one organization to another within the supply chain. It involves a CoC request created by the consignor and received by the consignee.\n",
      "\n",
      "Prompt: How are batch IDs used in Tracified?\n",
      "Response: Batch IDs are unique identifiers assigned to each batch in the supply chain to facilitate tracking and traceability. They vary depending on the domain, for example, 'Tomatoes001' for agriculture or 'CB001' for apparel.\n",
      "\n",
      "Prompt: What is the purpose of the consumer-map in Tracified?\n",
      "Response: The consumer-map in Tracified shows the end consumer all the specific locations that the product has passed through during different stages of the supply chain, enhancing the transparency and trust in the product's journey.\n",
      "\n",
      "Prompt: What are geotagged photos in the context of Tracified?\n",
      "Response: Geotagged photos are images that are linked with a specific geographic location. In Tracified, these photos can be uploaded through the Field Officer Application to provide visual proof of the product at different stages in the supply chain.\n",
      "\n"
     ]
    }
   ],
   "source": []
  },
  {
   "cell_type": "markdown",
   "metadata": {},
   "source": [
    "# Fine-Tunning"
   ]
  },
  {
   "cell_type": "markdown",
   "metadata": {},
   "source": [
    "1.Prepare training data:\n",
    "\n",
    "For the OpenAI API, the data must be stored in jsonl format.Also should be in below format: \n",
    "\n",
    "{\"messages\": [{\"role\": \"system\", \"content\": \"system message here\"}, {\"role\": \"user\", \"content\": \"user prompt should be here\"}, {\"role\": \"assistant\", \"content\": \"response should be here\"}]}\n"
   ]
  },
  {
   "cell_type": "code",
   "execution_count": 39,
   "metadata": {},
   "outputs": [
    {
     "name": "stdout",
     "output_type": "stream",
     "text": [
      "['Can you explain how Tracified uses blockchain technology?', 'What are the main components of the Tracified product line?', \"What is meant by 'Artifacts' or 'Master data' in the context of Tracified?\", 'How does Tracified collect Stage Data or Tracking Data?', 'What is a TDP in Tracified?', 'What does Change of Custody (CoC) mean in Tracified?', 'How are batch IDs used in Tracified?', 'What is the purpose of the consumer-map in Tracified?', 'What are geotagged photos in the context of Tracified?']\n",
      "\n",
      "['Tracified utilizes blockchain technology to create a tamper-proof platform that enhances the traceability and trust in supply chains. It does this by providing direct proofs on the blockchain, establishing a web of trust, and using security deposits to incentivize the fair distribution of gains and ensure the authenticity of products.', 'The Tracified product line includes Tracified Web Portals such as the Admin Portal, Configs Portal, and Insights Portal, as well as Tracified Mobile Applications including the Field Officer Application, Consumer Application, and Wallet Application.', \"Within Tracified, 'Artifacts' or 'Master data' refer to static data that are entered into the system and remain unchanged throughout the entire supply chain. This data serves as a foundational element for tracking and traceability.\", 'Stage Data or Tracking Data is collected live at each stage of the supply chain. This can be done through IoT devices or manual inputs, and the data is collected using the Tracified Field Officer Application.', 'TDP stands for Traceability Data Packets. It is the traceability information related to a specific stage in the supply chain, which can be viewed in the Tracified Insights Portal.', 'Change of Custody (CoC) in Tracified refers to the transfer of an item from one organization to another within the supply chain. It involves a CoC request created by the consignor and received by the consignee.', \"Batch IDs are unique identifiers assigned to each batch in the supply chain to facilitate tracking and traceability. They vary depending on the domain, for example, 'Tomatoes001' for agriculture or 'CB001' for apparel.\", \"The consumer-map in Tracified shows the end consumer all the specific locations that the product has passed through during different stages of the supply chain, enhancing the transparency and trust in the product's journey.\", 'Geotagged photos are images that are linked with a specific geographic location. In Tracified, these photos can be uploaded through the Field Officer Application to provide visual proof of the product at different stages in the supply chain.']\n"
     ]
    }
   ],
   "source": [
    "def extract_user_assistant_content(datasamples):\n",
    "    user_content_list = []\n",
    "    assistant_content_list = []\n",
    "    \n",
    "    for sample in datasamples:\n",
    "        user_content_list.append(sample.prompt)\n",
    "        assistant_content_list.append(sample.response)\n",
    "    \n",
    "    return user_content_list, assistant_content_list\n",
    "\n",
    "# Extract user and assistant content\n",
    "user_content, assistant_content = extract_user_assistant_content(response1.datasamples)\n",
    "print(user_content)\n",
    "print()\n",
    "print(assistant_content)"
   ]
  },
  {
   "cell_type": "code",
   "execution_count": 40,
   "metadata": {},
   "outputs": [],
   "source": [
    "import json\n",
    "# Write data to JSONL file\n",
    "with open('dataset.jsonl', mode='w') as writer:\n",
    "    for user_prompt, assistant_response in zip(user_content, assistant_content):\n",
    "        data = {\n",
    "            \"messages\": [\n",
    "                {\"role\": \"system\", \"content\": response2.system_message},\n",
    "                {\"role\": \"user\", \"content\": user_prompt},\n",
    "                {\"role\": \"assistant\", \"content\": assistant_response}\n",
    "            ]\n",
    "        }\n",
    "        writer.write(json.dumps(data) + '\\n')"
   ]
  },
  {
   "cell_type": "markdown",
   "metadata": {},
   "source": [
    "2.Upload the training file\n",
    "\n",
    "Your training file must be in jsonl format. Once you've uploaded the file, processing might take a while. The maximum size for file uploads is 1 GB. To upload a file on the OpenAI server:"
   ]
  },
  {
   "cell_type": "code",
   "execution_count": 48,
   "metadata": {},
   "outputs": [
    {
     "data": {
      "text/plain": [
       "FileObject(id='file-vaE1yci8M4d6Ejq4iXNK5FYw', bytes=4826, created_at=1711602441, filename='dataset.jsonl', object='file', purpose='fine-tune', status='processed', status_details=None)"
      ]
     },
     "execution_count": 48,
     "metadata": {},
     "output_type": "execute_result"
    }
   ],
   "source": [
    "from openai import OpenAI\n",
    "client = OpenAI()\n",
    "\n",
    "\n",
    "client.files.create(\n",
    "  file=open(\"dataset.jsonl\", \"rb\"),\n",
    "  purpose=\"fine-tune\"\n",
    ")\n"
   ]
  },
  {
   "cell_type": "code",
   "execution_count": 49,
   "metadata": {},
   "outputs": [],
   "source": [
    "file_id=client.files.create(\n",
    "  file=open(\"dataset.jsonl\", \"rb\"),\n",
    "  purpose=\"fine-tune\"\n",
    ").id"
   ]
  },
  {
   "cell_type": "markdown",
   "metadata": {},
   "source": [
    "3.Create a fine-tuned model-Training\n",
    "\n",
    "After ensuring the file has been successfully uploaded, the next step is to create a fine-tuning job. training_file is the file ID that was returned when the training file was uploaded to the OpenAI API. To start a fine-tuning job:\n",
    "\n"
   ]
  },
  {
   "cell_type": "code",
   "execution_count": 52,
   "metadata": {},
   "outputs": [],
   "source": [
    "from openai import OpenAI\n",
    "client = OpenAI()\n",
    "\n",
    "\n",
    "job=client.fine_tuning.jobs.create(\n",
    "  training_file=file_id,\n",
    "  model=\"gpt-3.5-turbo\" #change to gpt-4-0613 if you have access\n",
    ")\n"
   ]
  },
  {
   "cell_type": "code",
   "execution_count": 54,
   "metadata": {},
   "outputs": [
    {
     "name": "stdout",
     "output_type": "stream",
     "text": [
      "ftjob-HhQ0CW8UKumR7mj1gY8wo4g3\n"
     ]
    }
   ],
   "source": [
    "job_id = job.id\n",
    "print(job_id)"
   ]
  },
  {
   "cell_type": "markdown",
   "metadata": {},
   "source": []
  },
  {
   "cell_type": "code",
   "execution_count": 55,
   "metadata": {},
   "outputs": [
    {
     "name": "stdout",
     "output_type": "stream",
     "text": [
      "ft:gpt-3.5-turbo-0125:personal::97gpX82a\n"
     ]
    }
   ],
   "source": [
    "from openai import OpenAI\n",
    "client = OpenAI()\n",
    "# Retrieve the state of a fine-tune\n",
    "model_name_pre_object =client.fine_tuning.jobs.retrieve(job_id)\n",
    "\n",
    "model_name = model_name_pre_object.fine_tuned_model\n",
    "print(model_name)"
   ]
  },
  {
   "cell_type": "code",
   "execution_count": null,
   "metadata": {},
   "outputs": [],
   "source": []
  },
  {
   "cell_type": "markdown",
   "metadata": {},
   "source": [
    " 4.Using the fine-tuned model\n",
    "\n",
    " Upon successful completion of a job, the job details will include the fine_tuned_model field, displaying the name of the model. You can make an API call to this model and get a response from the model that we just tuned."
   ]
  },
  {
   "cell_type": "code",
   "execution_count": 56,
   "metadata": {},
   "outputs": [
    {
     "name": "stdout",
     "output_type": "stream",
     "text": [
      "ChatCompletionMessage(content=\"Tracified is a platform developed by Sri Lanka Institute of Nanotechnology (SLINTEC) that provides supply chain visibility by tracking products through their supply chains. This is done through a unique QR code assigned to each product which allows users to trace the product's journey from its origin to the end consumer.\", role='assistant', function_call=None, tool_calls=None)\n"
     ]
    }
   ],
   "source": [
    "from openai import OpenAI\n",
    "client = OpenAI()\n",
    "\n",
    "\n",
    "completion = client.chat.completions.create(\n",
    "  model=model_name,\n",
    "  messages=[\n",
    "    {\"role\": \"system\", \"content\": response2.system_message},\n",
    "    {\"role\": \"user\", \"content\": \"What is tracified?\"}\n",
    "  ]\n",
    ")\n",
    "print(completion.choices[0].message)"
   ]
  }
 ],
 "metadata": {
  "kernelspec": {
   "display_name": ".venv",
   "language": "python",
   "name": "python3"
  },
  "language_info": {
   "codemirror_mode": {
    "name": "ipython",
    "version": 3
   },
   "file_extension": ".py",
   "mimetype": "text/x-python",
   "name": "python",
   "nbconvert_exporter": "python",
   "pygments_lexer": "ipython3",
   "version": "3.11.2"
  }
 },
 "nbformat": 4,
 "nbformat_minor": 2
}
